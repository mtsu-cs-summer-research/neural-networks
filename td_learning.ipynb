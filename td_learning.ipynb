{
 "cells": [
  {
   "cell_type": "markdown",
   "metadata": {},
   "source": [
    "# Test with TD Learning\n",
    "The following program demonstrates _Temporal Difference Learning_. We begin with a 1D maze which contains a single goal. Each section of the maze can be thought of as a __state__. We set the reward for the goal to one, and the reward for all other states to zero. We then drop the __agent__ into a random state, and let it search for the goal. Each time the goal is found the __value__ of the states used to get there will update to show the most efficient path.\n",
    "\n",
    "Epoch is set to the amount of times the agent will be dropped into a state to find the goal. Goal is set to which state in the maze represents the goal.\n",
    "\n",
    "Try out adjusting the length of the 1D Maze:"
   ]
  },
  {
   "cell_type": "code",
   "execution_count": 76,
   "metadata": {},
   "outputs": [],
   "source": [
    "import random\n",
    "from fractions import Fraction\n",
    "\n",
    "LENGTH = 5  # Try me out\n",
    "GAMMA = .5\n",
    "GOAL = 0\n",
    "EPOCH = 30\n",
    "\n",
    "class Maze:\n",
    "    i = 0\n",
    "\n",
    "    def __init__(self):\n",
    "        self._reward = [0] * LENGTH   # Reward matrix\n",
    "        self._value = [0] * LENGTH    # Value matrix\n",
    "        self._reward[GOAL] = 1\n",
    "\n",
    "    # Disply the maze with current values inside\n",
    "    def display(self):\n",
    "        print(\" ------\" * LENGTH)\n",
    "        \n",
    "        print(\"|\", end='')\n",
    "        for i in range(LENGTH):\n",
    "            print(\" %4s |\" %Fraction(self._value[i]), end='')\n",
    "        print()\n",
    "        print(\" ------\" * LENGTH)\n",
    "        for i in range(LENGTH):\n",
    "            print(\"  \", i, \"  \", end='')\n",
    "        print()\n",
    "        return\n",
    "\n",
    "    # Drop agent into maze and search for goal\n",
    "    def episode(self, s):\n",
    "        temp = [0] * LENGTH # used to store updated values for episode\n",
    "                            # prevents infinite loop\n",
    "        # Search and update value until reaches goal\n",
    "        while(s != GOAL):\n",
    "            temp[s] += self.delta(s)\n",
    "            # Move to next state\n",
    "            s = self._nextS(s)\n",
    "        self._value[s] += self.delta(s)\n",
    "\n",
    "        # Copy new values into the values matrix\n",
    "        for i in range(LENGTH):\n",
    "            self._value[i] += temp[i]\n",
    "        return\n",
    "\n",
    "    # delta(s) = (r(s) + gamma v(s + 1)) - v(s)\n",
    "    def delta(self, s):\n",
    "        if (s == GOAL):\n",
    "            future_val = 0.0\n",
    "        else:\n",
    "            future_val = GAMMA * self.v(self._nextS(s))\n",
    "        term = self._reward[s] + future_val\n",
    "        return term - self._value[s]\n",
    "    \n",
    "    # V(s) = v(s) + gamma V(s+1)\n",
    "    def v(self, s):\n",
    "        if (s == GOAL):\n",
    "            return self._reward[GOAL]\n",
    "        else:\n",
    "            return self._reward[s] + (GAMMA * self.v(self._nextS(s)))\n",
    "\n",
    "    # Obtain the next state to  be moved to\n",
    "    def _nextS(self, s):\n",
    "        # determine left and right values (accounting for wrap around)\n",
    "        if (s == 0):\n",
    "            left = (LENGTH-1)\n",
    "            right = s + 1\n",
    "        elif (s == (LENGTH-1)):\n",
    "            left = s - 1\n",
    "            right = 0\n",
    "        else:\n",
    "            left = s - 1\n",
    "            right = s + 1\n",
    "\n",
    "        # determine whether to go left or right\n",
    "        if (self._value[left] >= self._value[right]):\n",
    "            nextS = left\n",
    "        else:\n",
    "            nextS = right\n",
    "\n",
    "        return nextS\n",
    "    \n",
    "    # Obtain the matrix of state values\n",
    "    def get_values(self):\n",
    "        return self._value"
   ]
  },
  {
   "cell_type": "code",
   "execution_count": 77,
   "metadata": {},
   "outputs": [
    {
     "name": "stdout",
     "output_type": "stream",
     "text": [
      "The goal is 0\n",
      " ------ ------ ------ ------ ------\n",
      "|    0 |    0 |    0 |    0 |    0 |\n",
      " ------ ------ ------ ------ ------\n",
      "   0      1      2      3      4   \n",
      "Maze after completion:\n",
      " ------ ------ ------ ------ ------\n",
      "|    1 |  1/2 |  1/4 |  1/4 |  1/2 |\n",
      " ------ ------ ------ ------ ------\n",
      "   0      1      2      3      4   \n"
     ]
    },
    {
     "data": {
      "image/png": "[encoded data removed]",
      "text/plain": [
       "<Figure size 432x288 with 1 Axes>"
      ]
     },
     "metadata": {
      "needs_background": "light"
     },
     "output_type": "display_data"
    }
   ],
   "source": [
    "import numpy as np\n",
    "import matplotlib.pyplot as plt\n",
    "%matplotlib inline\n",
    "\n",
    "maze = Maze()\n",
    "print(\"The goal is\", GOAL)\n",
    "maze.display()\n",
    "\n",
    "for i in range(EPOCH):\n",
    "    s = random.randint(0, LENGTH-1)\n",
    "    maze.episode(s)\n",
    "\n",
    "print(\"Maze after completion:\")\n",
    "maze.display()\n",
    "\n",
    "# Plot the results\n",
    "v = maze.get_values()\n",
    "states = np.linspace(0, LENGTH-1, LENGTH)\n",
    "plt.plot(states, v)\n",
    "plt.xlabel(\"States\")\n",
    "plt.ylabel(\"V(s)\")\n",
    "plt.show()"
   ]
  },
  {
   "cell_type": "code",
   "execution_count": null,
   "metadata": {},
   "outputs": [],
   "source": []
  }
 ],
 "metadata": {
  "kernelspec": {
   "display_name": "Python 3",
   "language": "python",
   "name": "python3"
  },
  "language_info": {
   "codemirror_mode": {
    "name": "ipython",
    "version": 3
   },
   "file_extension": ".py",
   "mimetype": "text/x-python",
   "name": "python",
   "nbconvert_exporter": "python",
   "pygments_lexer": "ipython3",
   "version": "3.6.7"
  }
 },
 "nbformat": 4,
 "nbformat_minor": 2
}
