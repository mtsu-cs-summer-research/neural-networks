{
 "cells": [
  {
   "cell_type": "markdown",
   "metadata": {},
   "source": [
    "# Neural Networks Summer 2019"
   ]
  },
  {
   "cell_type": "markdown",
   "metadata": {},
   "source": [
    "This notebook seeks to summarize and document the content learned during the Summer 2019 S-STEM summer reasearch program.\n",
    "\n",
    "| Week 1 | [Week 2](#week2) | [Week 3](#week3) |\n",
    "|---| --- | --- |\n",
    "| [Linear Algebra](#linear-algebra) | [Multilayer Nets](#multilayer-networks)|\n",
    "| [PCA](#PCA) | [Reinforcement Learning](#reinforcement)|\n",
    "| [Single Layer Neural Nets](#single-layer-neural-networks) | |\n",
    "\n",
    "---"
   ]
  },
  {
   "cell_type": "markdown",
   "metadata": {},
   "source": [
    "## Week 1\n",
    "During the first week, we covered introductory topics needed to get started in the area of neural networks. We began by learning to use Jupyter notebooks, followed by an intro to LaTeX and Markdown. These tools will be used throughout the program to help document our code and processes.\n",
    "\n",
    "In addition we covered some python libraries that will be useful, such as Matplotlib and numpy. Towards the end of the week, we began learning about the basics of neural networks, starting with tools like Keras and TensorFlow. We used these to practice with a single layer neural network and started learning about multilayer networks."
   ]
  },
  {
   "cell_type": "markdown",
   "metadata": {},
   "source": [
    "<a name=\"linear-algebra\"></a>\n",
    "#### Linear Algebra\n",
    "##### Distance and Similarity\n",
    "When speaking in terms of neural networks, it's often useful to describe something as similar or disimilar to a class of things. For this, it is helpful to have some mathmatical methods of difining this similarity or difference. A common distance metric is the **Euclidean distance**: $\\sqrt{\\sum_{i=1}^{n}{(\\boldsymbol{x}_i - \\boldsymbol{y}_i)^2}}$ . Let's take a peak at that using numpy. Notice how easy numpy arrays make it."
   ]
  },
  {
   "cell_type": "code",
   "execution_count": 11,
   "metadata": {},
   "outputs": [
    {
     "data": {
      "text/plain": [
       "4.47213595499958"
      ]
     },
     "execution_count": 11,
     "metadata": {},
     "output_type": "execute_result"
    }
   ],
   "source": [
    "import numpy as np\n",
    "\n",
    "X = np.array([5.0, 10.0])\n",
    "Y = np.array([1.0, 8.0])\n",
    "\n",
    "np.sqrt(np.sum(pow(X-Y, 2.0)))"
   ]
  },
  {
   "cell_type": "code",
   "execution_count": 10,
   "metadata": {},
   "outputs": [
    {
     "data": {
      "text/plain": [
       "4.47213595499958"
      ]
     },
     "execution_count": 10,
     "metadata": {},
     "output_type": "execute_result"
    }
   ],
   "source": [
    "# This can also be done using scipy's euclidean method\n",
    "import scipy.spatial.distance as ssd\n",
    "\n",
    "ssd.euclidean(X, Y)"
   ]
  },
  {
   "cell_type": "markdown",
   "metadata": {},
   "source": [
    "A common metric used for similarity is the **cosine similarity** function: $\\cos {\\theta} = \\frac{\\boldsymbol{x} \\cdot \\boldsymbol{y}}\n",
    "                      {\\lVert \\boldsymbol{x} \\rVert_2 \n",
    "                       \\lVert \\boldsymbol{y} \\rVert_2}$\n",
    "We can calculate that as well using numpy:"
   ]
  },
  {
   "cell_type": "code",
   "execution_count": 9,
   "metadata": {},
   "outputs": [
    {
     "data": {
      "text/plain": [
       "0.9429903335828895"
      ]
     },
     "execution_count": 9,
     "metadata": {},
     "output_type": "execute_result"
    }
   ],
   "source": [
    "# Calculate the cosine similarity\n",
    "np.sum(X*Y) / (np.sqrt(np.dot(X,X)) * np.sqrt(np.dot(Y,Y)))"
   ]
  },
  {
   "cell_type": "markdown",
   "metadata": {},
   "source": [
    "There is also a **cosine dissimilarity** function derived from the similarity function. It looks like so: $\\cos {\\theta} = 1 - \\frac{\\boldsymbol{x} \\cdot \\boldsymbol{y}}\n",
    "                      {\\lVert \\boldsymbol{x} \\rVert_2 \n",
    "                       \\lVert \\boldsymbol{y} \\rVert_2}$\n",
    "This can be calculated by using numpy, or easily with the scipy method:"
   ]
  },
  {
   "cell_type": "code",
   "execution_count": 12,
   "metadata": {},
   "outputs": [
    {
     "data": {
      "text/plain": [
       "0.05700966641711047"
      ]
     },
     "execution_count": 12,
     "metadata": {},
     "output_type": "execute_result"
    }
   ],
   "source": [
    "ssd.cosine(X, Y)"
   ]
  },
  {
   "cell_type": "markdown",
   "metadata": {},
   "source": [
    "##### Matrices\n",
    "It is also important to become familiar with matrix operations, as they are an integral piece of neural networks. Luckily, numpy also makes this quite easy."
   ]
  },
  {
   "cell_type": "code",
   "execution_count": 28,
   "metadata": {},
   "outputs": [
    {
     "data": {
      "text/latex": [
       "$$\\left[\\begin{matrix}5.0 & 10.0\\\\1.0 & 8.0\\\\2.0 & 4.5\\end{matrix}\\right]$$"
      ],
      "text/plain": [
       "⎡5.0  10.0⎤\n",
       "⎢         ⎥\n",
       "⎢1.0  8.0 ⎥\n",
       "⎢         ⎥\n",
       "⎣2.0  4.5 ⎦"
      ]
     },
     "execution_count": 28,
     "metadata": {},
     "output_type": "execute_result"
    }
   ],
   "source": [
    "# For displaying matrices\n",
    "from sympy import *\n",
    "init_printing(use_latex=True)\n",
    "\n",
    "X = np.array([5.0, 10.0])\n",
    "Y = np.array([1.0, 8.0])\n",
    "Z = np.array([2.0, 4.5])\n",
    "# Create the matrix\n",
    "data = np.array([X, Y, Z])\n",
    "Matrix(data)"
   ]
  },
  {
   "cell_type": "markdown",
   "metadata": {},
   "source": [
    "An important concept with matrices is **pairwise distance**. This involves calculating the distance between each of the vectors in a given matrices. Let's take a look at how this is done using `pdist()`:"
   ]
  },
  {
   "cell_type": "code",
   "execution_count": 29,
   "metadata": {},
   "outputs": [
    {
     "data": {
      "text/plain": [
       "array([[0.        , 4.47213595, 6.26498204],\n",
       "       [4.47213595, 0.        , 3.64005494],\n",
       "       [6.26498204, 3.64005494, 0.        ]])"
      ]
     },
     "execution_count": 29,
     "metadata": {},
     "output_type": "execute_result"
    }
   ],
   "source": [
    "ssd.squareform(ssd.pdist(data, metric='euclidean'))"
   ]
  },
  {
   "cell_type": "markdown",
   "metadata": {},
   "source": [
    "Yet another important skill with matrices is decomposition, where $\\boldsymbol{A} = \\boldsymbol{U} \\boldsymbol{\\Sigma} \\boldsymbol{V}^\\intercal$. Numpy makes this easy as well. Using `np.linalg.svd()` we will decompose a matrix into singular, left-singular, and right-singular values."
   ]
  },
  {
   "cell_type": "code",
   "execution_count": 39,
   "metadata": {},
   "outputs": [
    {
     "data": {
      "text/latex": [
       "$$\\left[\\begin{matrix}-0.768489058813465 & 0.531109622575895 & -0.35685730382225\\\\-0.542199584547175 & -0.836660812335674 & -0.0775776747439673\\\\-0.339770771257426 & 0.13387028762612 & 0.930932096927608\\end{matrix}\\right] \\left[\\begin{matrix}14.46678736452 & 0.0\\\\0.0 & 2.22756893266284\\end{matrix}\\right] \\left[\\begin{matrix}-0.350056048625512 & -0.936728756268694\\\\0.936728756268694 & -0.350056048625512\\end{matrix}\\right]$$"
      ],
      "text/plain": [
       "⎡-0.768489058813465  0.531109622575895    -0.35685730382225 ⎤                 \n",
       "⎢                                                           ⎥ ⎡14.46678736452 \n",
       "⎢-0.542199584547175  -0.836660812335674  -0.0775776747439673⎥⋅⎢               \n",
       "⎢                                                           ⎥ ⎣     0.0       \n",
       "⎣-0.339770771257426   0.13387028762612    0.930932096927608 ⎦                 \n",
       "\n",
       "                                                           \n",
       "       0.0       ⎤ ⎡-0.350056048625512  -0.936728756268694⎤\n",
       "                 ⎥⋅⎢                                      ⎥\n",
       " 2.22756893266284⎦ ⎣0.936728756268694   -0.350056048625512⎦\n",
       "                                                           "
      ]
     },
     "execution_count": 39,
     "metadata": {},
     "output_type": "execute_result"
    }
   ],
   "source": [
    "U, S, V = np.linalg.svd(data, full_matrices=True)\n",
    "Mul(Matrix(U), Matrix(np.diag(S)), Matrix(V), evaluate=False)"
   ]
  },
  {
   "cell_type": "markdown",
   "metadata": {},
   "source": [
    "<a name=\"PCA\"></a>\n",
    "#### PCA (Principal Component Analysis)\n",
    "PCA is an extremely useful tool for neural networks, and is often one of the first things done when starting to analyze the data. It's a great way to get rid of noise in the data and prep it for being used by the neural net. The basic principal is to eliminate uneeded dimensions in the data (compression and noise reduction) and to project the data into a manner it can be vizualized in.\n",
    "\n",
    "Let's take a look at a typical PCA workflow:"
   ]
  },
  {
   "cell_type": "code",
   "execution_count": 48,
   "metadata": {},
   "outputs": [
    {
     "name": "stdout",
     "output_type": "stream",
     "text": [
      "85.4490160873562\n"
     ]
    }
   ],
   "source": [
    "import pandas\n",
    "import numpy as np\n",
    "from sympy import *\n",
    "init_printing(use_latex=True)\n",
    "from sklearn.decomposition import PCA\n",
    "import keras\n",
    "import matplotlib.pyplot as plt\n",
    "%matplotlib inline \n",
    "\n",
    "iris_data = np.array(pandas.read_table(\"https://www.cs.mtsu.edu/~jphillips/courses/CSCI4850-5850/public/iris-data.txt\",\n",
    "                                       delim_whitespace=True,\n",
    "                                       header=None))\n",
    "# Separate into the data and class labels\n",
    "X = iris_data[:,0:4] # 0,1,2,3\n",
    "Y = iris_data[:,4]   # 4\n",
    "\n",
    "# Mean center the data\n",
    "def mean_center(x):\n",
    "    return x - np.mean(x)\n",
    "Xcentered = np.apply_along_axis(mean_center, 0, X)\n",
    "\n",
    "# Decomp\n",
    "U, S, V = np.linalg.svd(Xcentered, full_matrices=True)\n",
    "\n",
    "# How much varience do the first two principal components account for?\n",
    "print((100 * (S[0] + S[1]))/np.sum(S))"
   ]
  },
  {
   "cell_type": "markdown",
   "metadata": {},
   "source": [
    "We can see that just the first two components account for over 85 percent of the varience. This is an excellent case for PCA. The singular values will tell us which dimensions captures the most amount of variance. This dimension will then be put along the x-axis. The second principal component will be placed along the y-axis."
   ]
  },
  {
   "cell_type": "code",
   "execution_count": 50,
   "metadata": {},
   "outputs": [
    {
     "data": {
      "image/png": "[encoded data removed]",
      "text/plain": [
       "<Figure size 432x288 with 1 Axes>"
      ]
     },
     "metadata": {
      "needs_background": "light"
     },
     "output_type": "display_data"
    }
   ],
   "source": [
    "# Rotate and remove uneeded dimensions\n",
    "D = np.zeros([X.shape[0], X.shape[1]])\n",
    "np.fill_diagonal(D, S)\n",
    "Xrotated = np.dot(U, D)\n",
    "PCs = Xrotated[:,0:2]\n",
    "\n",
    "plt.scatter(PCs[:,0],PCs[:,1],\n",
    "            color=[['red','green','blue'][i] for i in Y.astype(int)])\n",
    "plt.xlabel(\"PC1\")\n",
    "plt.ylabel(\"PC2\")\n",
    "plt.show()"
   ]
  },
  {
   "cell_type": "markdown",
   "metadata": {},
   "source": [
    "<a name=\"single-layer-neural-networks\"></a>\n",
    "#### Single Layer Neural Networks\n",
    "Creating the neural network requires four steps:\n",
    "1. Declare which model you'd like to use. In this case _`keras.Sequential()`_\n",
    "2. Add the output layer\n",
    "3. Compile the network\n",
    "4. Train the network (using _`fit()`_)\n",
    "\n",
    "Example below:"
   ]
  },
  {
   "cell_type": "code",
   "execution_count": 51,
   "metadata": {},
   "outputs": [
    {
     "name": "stdout",
     "output_type": "stream",
     "text": [
      "WARNING:tensorflow:From /nfshome/apps/python-3.6.7/lib/python3.6/site-packages/tensorflow/python/framework/op_def_library.py:263: colocate_with (from tensorflow.python.framework.ops) is deprecated and will be removed in a future version.\n",
      "Instructions for updating:\n",
      "Colocations handled automatically by placer.\n",
      "WARNING:tensorflow:From /nfshome/apps/python-3.6.7/lib/python3.6/site-packages/tensorflow/python/ops/math_ops.py:3066: to_int32 (from tensorflow.python.ops.math_ops) is deprecated and will be removed in a future version.\n",
      "Instructions for updating:\n",
      "Use tf.cast instead.\n"
     ]
    },
    {
     "data": {
      "image/png": "[encoded data removed]",
      "text/plain": [
       "<Figure size 432x288 with 2 Axes>"
      ]
     },
     "metadata": {
      "needs_background": "light"
     },
     "output_type": "display_data"
    }
   ],
   "source": [
    "import pandas\n",
    "import numpy as np\n",
    "import keras\n",
    "\n",
    "data = np.array(pandas.read_table(\"https://www.cs.mtsu.edu/~jphillips/courses/CSCI4850-5850/public/iris-data.txt\",\n",
    "                                  delim_whitespace=True,\n",
    "                                  header=None))\n",
    "X = data[:,0:4]\n",
    "\n",
    "labels = data[:,4]\n",
    "Y = keras.utils.to_categorical(labels,\n",
    "                               len(np.unique(labels)))\n",
    "\n",
    "model = keras.Sequential()\n",
    "# Input size - 4\n",
    "input_size = X.shape[1]\n",
    "# Output size - 3\n",
    "output_size = Y.shape[1]\n",
    "\n",
    "model.add(keras.layers.Dense(output_size,\n",
    "                             activation='sigmoid',\n",
    "                             input_shape=[input_size]))\n",
    "model.compile(loss=keras.losses.mse,\n",
    "              optimizer=keras.optimizers.SGD(lr=0.7),\n",
    "              metrics=['accuracy'])\n",
    "\n",
    "batch_size = 16\n",
    "epochs = 500\n",
    "validation_split = 0.5\n",
    "\n",
    "history = model.fit(X, Y,\n",
    "          batch_size = batch_size,\n",
    "          epochs = epochs,\n",
    "          verbose = 0,\n",
    "          validation_split = validation_split)\n",
    "\n",
    "# Plot Results\n",
    "import matplotlib.pyplot as plt\n",
    "%matplotlib inline\n",
    "\n",
    "plt.figure(1)  \n",
    "   \n",
    "# summarize history for accuracy  \n",
    "   \n",
    "plt.subplot(211)  \n",
    "plt.plot(history.history['acc'])  \n",
    "plt.plot(history.history['val_acc'])  \n",
    "plt.title('model accuracy')  \n",
    "plt.ylabel('accuracy')  \n",
    "plt.xlabel('epoch')  \n",
    "plt.legend(['train', 'test'], loc='upper left')  \n",
    "   \n",
    "# summarize history for loss  \n",
    "   \n",
    "plt.subplot(212)  \n",
    "plt.plot(history.history['loss'])  \n",
    "plt.plot(history.history['val_loss'])  \n",
    "plt.title('model loss')  \n",
    "plt.ylabel('loss')  \n",
    "plt.xlabel('epoch')  \n",
    "plt.legend(['train', 'test'], loc='upper left')\n",
    "\n",
    "plt.tight_layout()\n",
    "plt.show()  "
   ]
  },
  {
   "cell_type": "code",
   "execution_count": 52,
   "metadata": {},
   "outputs": [
    {
     "name": "stdout",
     "output_type": "stream",
     "text": [
      "150/150 [==============================] - 0s 43us/step\n",
      "Test loss: 0.06692401697238286\n",
      "Test accuracy: 0.9533333309491475\n"
     ]
    }
   ],
   "source": [
    "score = model.evaluate(X, Y, verbose=1)\n",
    "print('Test loss:', score[0])\n",
    "print('Test accuracy:', score[1])"
   ]
  },
  {
   "cell_type": "markdown",
   "metadata": {},
   "source": [
    "---\n",
    "<a name=\"week2\"></a>\n",
    "## Week 2"
   ]
  },
  {
   "cell_type": "markdown",
   "metadata": {},
   "source": [
    "During this week, we began to dive _deeper_ into mulitlayer neural networks..."
   ]
  },
  {
   "cell_type": "markdown",
   "metadata": {},
   "source": [
    "<a name=\"multilayer-networks\"></a>\n",
    "#### Multilayer Networks\n",
    "##### Activation Function and Loss Function Pairings\n",
    "There is often a pairing of what activation and loss functions one should be using for a given neural network. They can be broken down into two categories. Regression and classification, where regression involves a singular output of continuous values, and classification entails categorizing something using one or more discrete categories. The classification category can be further broken down into binary classification or multiclass classification. There is often an activation function and loss function that lend themselves particularly well to a specific one of these categories.\n",
    "\n",
    "| Category | Activation Function | Loss Function |\n",
    "| --- | --- | ---|\n",
    "| **Regression**| Linear $g(net_i) = net_i$ | Mean Sum Error _(Usually)_|\n",
    "| **Binary Classification** | Logistic Sigmoid | Binary Cross-Entropy |\n",
    "| **Multiclass Classification** | Softmax | Categorical Cross-Entropy |\n",
    "\n"
   ]
  },
  {
   "cell_type": "markdown",
   "metadata": {},
   "source": [
    "<a name=\"reinforcement\"></a>\n",
    "#### Reinforcement Learning\n",
    "The networks we have worked on up until this point involved supervised learning. Upon each pass through the neural net, the network was not only shown whether it was right or wrong, but also what the answer should have been. _Reinforcement Learning_ works in a different manner. There is an __agent__ which is placed into an environment, trying to reach a goal. Only upon reaching this goal does it receive feedback whether it was right or wrong. Therefore, there is a _difference in time_ of when the agent receives feedback. The agent must then figure out which actions it made were correct. This is known as __TD Learning__. See the example program below:"
   ]
  },
  {
   "cell_type": "markdown",
   "metadata": {},
   "source": [
    "The following program demonstrates _Temporal Difference Learning_. We begin with a 1D maze which contains a single goal. Each section of the maze can be thought of as a __state__. We set the reward for the goal to one, and the reward for all other states to zero. We then drop the __agent__ into a random state, and let it search for the goal. Each time the goal is found the __value__ of the states used to get there will update to show the most efficient path.\n",
    "\n",
    "Epoch is set to the amount of times the agent will be dropped into a state to find the goal. Goal is set to which state in the maze represents the goal.\n",
    "\n",
    "Try out adjusting the length of the 1D Maze:"
   ]
  },
  {
   "cell_type": "code",
   "execution_count": 1,
   "metadata": {},
   "outputs": [],
   "source": [
    "import random\n",
    "from fractions import Fraction\n",
    "\n",
    "LENGTH = 8  # Try me out\n",
    "GAMMA = .5\n",
    "GOAL = 0\n",
    "EPOCH = 30\n",
    "\n",
    "class Maze:\n",
    "    i = 0\n",
    "\n",
    "    def __init__(self):\n",
    "        self._reward = [0] * LENGTH   # Reward matrix\n",
    "        self._value = [0] * LENGTH    # Value matrix\n",
    "        self._reward[GOAL] = 1\n",
    "\n",
    "    # Disply the maze with current values inside\n",
    "    def display(self):\n",
    "        print(\" ------\" * LENGTH)\n",
    "        \n",
    "        print(\"|\", end='')\n",
    "        for i in range(LENGTH):\n",
    "            print(\" %4s |\" %Fraction(self._value[i]), end='')\n",
    "        print()\n",
    "        print(\" ------\" * LENGTH)\n",
    "        for i in range(LENGTH):\n",
    "            print(\"  \", i, \"  \", end='')\n",
    "        print()\n",
    "        return\n",
    "\n",
    "    # Drop agent into maze and search for goal\n",
    "    def episode(self, s):\n",
    "        # Search and update value until reaches goal\n",
    "        while(s != GOAL):            \n",
    "            self._value[s] += self.delta(s)\n",
    "            # Move to next state\n",
    "            s = self._nextS(s)\n",
    "        self._value[s] += self.delta(s)\n",
    "\n",
    "        return\n",
    "\n",
    "    # delta(s) = (r(s) + gamma v(s + 1)) - v(s)\n",
    "    def delta(self, s):\n",
    "        if (s == GOAL):\n",
    "            future_val = 0.0\n",
    "        else:\n",
    "            future_val = GAMMA * self.v(self._nextS(s))\n",
    "        term = self._reward[s] + future_val\n",
    "        return term - self._value[s]\n",
    "    \n",
    "    # V(s) = v(s) + gamma V(s+1)\n",
    "    def v(self, s):\n",
    "        if (s == GOAL):\n",
    "            return self._value[GOAL]\n",
    "        else:\n",
    "            return self._reward[s] + (GAMMA * self._value[self._nextS(s)])\n",
    "\n",
    "    # Obtain the next state to  be moved to\n",
    "    def _nextS(self, s):\n",
    "        # determine left and right values (accounting for wrap around)\n",
    "        if (s == 0):\n",
    "            left = (LENGTH-1)\n",
    "            right = s + 1\n",
    "        elif (s == (LENGTH-1)):\n",
    "            left = s - 1\n",
    "            right = 0\n",
    "        else:\n",
    "            left = s - 1\n",
    "            right = s + 1\n",
    "\n",
    "        # determine whether to go left or right\n",
    "        if (self._value[left] >= self._value[right]):\n",
    "            nextS = left\n",
    "        else:\n",
    "            nextS = right\n",
    "\n",
    "        return nextS\n",
    "    \n",
    "    # Obtain the matrix of state values\n",
    "    def get_values(self):\n",
    "        return self._value"
   ]
  },
  {
   "cell_type": "code",
   "execution_count": 2,
   "metadata": {},
   "outputs": [
    {
     "name": "stdout",
     "output_type": "stream",
     "text": [
      "The goal is 0\n",
      " ------ ------ ------ ------ ------ ------ ------ ------\n",
      "|    0 |    0 |    0 |    0 |    0 |    0 |    0 |    0 |\n",
      " ------ ------ ------ ------ ------ ------ ------ ------\n",
      "   0      1      2      3      4      5      6      7   \n",
      "Maze after completion:\n",
      " ------ ------ ------ ------ ------ ------ ------ ------\n",
      "|    1 |  1/2 |  1/4 |  1/8 | 1/16 |  1/8 |  1/4 |  1/2 |\n",
      " ------ ------ ------ ------ ------ ------ ------ ------\n",
      "   0      1      2      3      4      5      6      7   \n",
      "\n",
      "Elapsed time: 0.0006234645843505859\n"
     ]
    },
    {
     "data": {
      "image/png": "[encoded data removed]",
      "text/plain": [
       "<Figure size 432x288 with 1 Axes>"
      ]
     },
     "metadata": {
      "needs_background": "light"
     },
     "output_type": "display_data"
    }
   ],
   "source": [
    "import numpy as np\n",
    "import time\n",
    "import matplotlib.pyplot as plt\n",
    "%matplotlib inline\n",
    "\n",
    "maze = Maze()\n",
    "print(\"The goal is\", GOAL)\n",
    "maze.display()\n",
    "\n",
    "start = time.time()\n",
    "for i in range(EPOCH):\n",
    "    s = random.randint(0, LENGTH-1)\n",
    "    maze.episode(s)\n",
    "end = time.time()\n",
    "\n",
    "print(\"Maze after completion:\")\n",
    "maze.display()\n",
    "print(\"\\nElapsed time:\", (end - start))\n",
    "\n",
    "# Plot the results\n",
    "v = maze.get_values()\n",
    "states = np.linspace(0, LENGTH-1, LENGTH)\n",
    "plt.plot(states, v)\n",
    "plt.xlabel(\"States\")\n",
    "plt.ylabel(\"V(s)\")\n",
    "plt.show()"
   ]
  },
  {
   "cell_type": "markdown",
   "metadata": {},
   "source": [
    "<a name='week3'></a>\n",
    "# Week 3"
   ]
  },
  {
   "cell_type": "markdown",
   "metadata": {},
   "source": [
    "##### Standardization of Data\n",
    "An extra technique that may be helpful to training neural nets is standardization of data. This helps \"level the playing field\" so to speak to give each of the data points an equal chance of affecting the weights. The formula for standardization is like so: \n",
    "</br>$z = \\frac{x - \\mu}{\\sigma}$ where $\\mu$ is the mean and $\\sigma$ is the standard diviation."
   ]
  },
  {
   "cell_type": "code",
   "execution_count": null,
   "metadata": {},
   "outputs": [],
   "source": []
  }
 ],
 "metadata": {
  "kernelspec": {
   "display_name": "Python 3",
   "language": "python",
   "name": "python3"
  },
  "language_info": {
   "codemirror_mode": {
    "name": "ipython",
    "version": 3
   },
   "file_extension": ".py",
   "mimetype": "text/x-python",
   "name": "python",
   "nbconvert_exporter": "python",
   "pygments_lexer": "ipython3",
   "version": "3.6.7"
  }
 },
 "nbformat": 4,
 "nbformat_minor": 2
}
