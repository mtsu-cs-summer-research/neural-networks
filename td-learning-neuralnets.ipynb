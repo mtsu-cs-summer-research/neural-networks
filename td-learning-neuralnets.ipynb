{
 "cells": [
  {
   "cell_type": "markdown",
   "metadata": {},
   "source": [
    "# TD Learning Using Neural Networks\n",
    "\n",
    "In this notebook, we will perform TD Learning on a one dimensional maze very similarly to the previous TD Learning notebook. However, we will no longer be using a table. Rather, we will replace this table with a neural network. Since neural networks can approximate functions, we will use one to approximate the table that would be used otherwise. With small, simple mazes, the benefits may not be immediately recognizable. However with more complex scenarios, this can save a great amount of space. There is an added benefit of not having to deal with complex tables.\n",
    "\n",
    "We will be using _Holographic Reduced Representations_ to encode information for the neural network. This is able to represent the states of the maze, as well as things such as colored signals, and allow them to be combined in "
   ]
  },
  {
   "cell_type": "code",
   "execution_count": null,
   "metadata": {},
   "outputs": [],
   "source": []
  }
 ],
 "metadata": {
  "kernelspec": {
   "display_name": "Python 3",
   "language": "python",
   "name": "python3"
  },
  "language_info": {
   "codemirror_mode": {
    "name": "ipython",
    "version": 3
   },
   "file_extension": ".py",
   "mimetype": "text/x-python",
   "name": "python",
   "nbconvert_exporter": "python",
   "pygments_lexer": "ipython3",
   "version": "3.6.7"
  }
 },
 "nbformat": 4,
 "nbformat_minor": 2
}
